{
 "cells": [
  {
   "cell_type": "code",
   "execution_count": 1,
   "metadata": {},
   "outputs": [],
   "source": [
    "import numpy as np\n",
    "from tqdm import tqdm\n",
    "import os\n",
    "import re\n",
    "import natsort"
   ]
  },
  {
   "cell_type": "code",
   "execution_count": 3,
   "metadata": {},
   "outputs": [],
   "source": [
    "folder_dir = 'extracted_frames'\n",
    "target_dir = 'dataset'\n",
    "# actions = np.array([])\n",
    "video_labels = {'0': [], '1': [], '2': [], '3': [], '4': [], '5': []}"
   ]
  },
  {
   "cell_type": "code",
   "execution_count": 4,
   "metadata": {},
   "outputs": [
    {
     "name": "stdout",
     "output_type": "stream",
     "text": [
      "Total files: 24841\n"
     ]
    }
   ],
   "source": [
    "file_list = []\n",
    "for roots, dirs, files in os.walk(folder_dir):\n",
    "    for filename in files:\n",
    "        # file_list.append(os.path.join(folder_dir, filename))\n",
    "        file_list.append(filename)\n",
    "print(f\"Total files: {len(file_list)}\")"
   ]
  },
  {
   "cell_type": "code",
   "execution_count": 5,
   "metadata": {},
   "outputs": [],
   "source": [
    "# sort filename numerically\n",
    "file_list = natsort.natsorted(file_list,reverse=False)"
   ]
  },
  {
   "cell_type": "code",
   "execution_count": 6,
   "metadata": {},
   "outputs": [
    {
     "data": {
      "text/plain": [
       "['video_0_keypoints_0.npy',\n",
       " 'video_0_keypoints_30.npy',\n",
       " 'video_0_keypoints_60.npy',\n",
       " 'video_0_keypoints_90.npy',\n",
       " 'video_0_keypoints_120.npy',\n",
       " 'video_0_keypoints_150.npy',\n",
       " 'video_0_keypoints_180.npy',\n",
       " 'video_0_keypoints_210.npy',\n",
       " 'video_0_keypoints_240.npy',\n",
       " 'video_0_keypoints_270.npy']"
      ]
     },
     "execution_count": 6,
     "metadata": {},
     "output_type": "execute_result"
    }
   ],
   "source": [
    "file_list[:10]"
   ]
  },
  {
   "cell_type": "code",
   "execution_count": 7,
   "metadata": {},
   "outputs": [
    {
     "name": "stderr",
     "output_type": "stream",
     "text": [
      "100%|██████████| 24841/24841 [00:00<00:00, 2043997.05it/s]\n"
     ]
    }
   ],
   "source": [
    "# Check each class\n",
    "for filename in tqdm(file_list):\n",
    "    file_label = filename.split('_')[1]\n",
    "    video_labels[file_label].append(filename)"
   ]
  },
  {
   "cell_type": "code",
   "execution_count": 8,
   "metadata": {},
   "outputs": [
    {
     "name": "stdout",
     "output_type": "stream",
     "text": [
      "Number of frame in class 0:  11839\n",
      "Number of frame in class 1:  3007\n",
      "Number of frame in class 2:  7160\n",
      "Number of frame in class 3:  1744\n",
      "Number of frame in class 4:  239\n",
      "Number of frame in class 5:  852\n"
     ]
    }
   ],
   "source": [
    "# Show number of each class\n",
    "print('Number of frame in class 0: ', len(video_labels['0']))\n",
    "print('Number of frame in class 1: ', len(video_labels['1']))\n",
    "print('Number of frame in class 2: ', len(video_labels['2']))\n",
    "print('Number of frame in class 3: ', len(video_labels['3']))\n",
    "print('Number of frame in class 4: ', len(video_labels['4']))\n",
    "print('Number of frame in class 5: ', len(video_labels['5']))\n",
    "# print('Total number of cheating actions: ', sum())"
   ]
  },
  {
   "attachments": {},
   "cell_type": "markdown",
   "metadata": {},
   "source": [
    "### Note\n",
    "- 0 : not cheating\n",
    "- 1 : cheating from book\n",
    "- 2 : talking\n",
    "- 3 : using internet\n",
    "- 4 : using phone\n",
    "- 5 : ask friends over phone\n",
    "\n",
    "- combine 4 + 1\n",
    "- combine 5 + 2\n",
    "- remove 3\n",
    "\n",
    "new_labels consists of:\n",
    "- 0 : not cheating\n",
    "- 1 : book + phone\n",
    "- 2 : talking all (overphone)"
   ]
  },
  {
   "cell_type": "code",
   "execution_count": 9,
   "metadata": {},
   "outputs": [
    {
     "name": "stdout",
     "output_type": "stream",
     "text": [
      "Number of frame in class 0:  11839\n",
      "Number of frame in class 1:  3246\n",
      "Number of frame in class 2:  8012\n"
     ]
    }
   ],
   "source": [
    "# Re process data\n",
    "new_labels = {}\n",
    "new_labels['0'] = video_labels['0']\n",
    "new_labels['1'] = video_labels['1'] + video_labels['4']\n",
    "new_labels['2'] = video_labels['2'] + video_labels['5']\n",
    "\n",
    "# Check\n",
    "print('Number of frame in class 0: ', len(new_labels['0']))\n",
    "print('Number of frame in class 1: ', len(new_labels['1']))\n",
    "print('Number of frame in class 2: ', len(new_labels['2']))"
   ]
  },
  {
   "cell_type": "code",
   "execution_count": 10,
   "metadata": {},
   "outputs": [
    {
     "name": "stdout",
     "output_type": "stream",
     "text": [
      "Number of frame in class 0:  3000\n",
      "Number of frame in class 1:  3000\n",
      "Number of frame in class 2:  3000\n"
     ]
    }
   ],
   "source": [
    "# Slice number of frame to be 3000 in total\n",
    "MAXIMUM_LENGTH = 1740\n",
    "new_labels['0'] = new_labels['0'][:3000]\n",
    "new_labels['1'] = new_labels['1'][:3000]\n",
    "new_labels['2'] = new_labels['2'][:3000]\n",
    "\n",
    "# Check\n",
    "print('Number of frame in class 0: ', len(new_labels['0']))\n",
    "print('Number of frame in class 1: ', len(new_labels['1']))\n",
    "print('Number of frame in class 2: ', len(new_labels['2']))"
   ]
  },
  {
   "cell_type": "code",
   "execution_count": 12,
   "metadata": {},
   "outputs": [],
   "source": [
    "# Grouping sequence\n",
    "# One sequence consists of 30 frames\n",
    "SEQUENCE_LENGTH = 30\n",
    "sequences = []\n",
    "labels = []\n",
    "window = []\n",
    "\n",
    "for key in new_labels:\n",
    "    videos = new_labels[key]\n",
    "    sequence = []\n",
    "    for video in videos:\n",
    "        frame = np.load(os.path.join(folder_dir, video))\n",
    "        sequence.append(frame)\n",
    "        \n",
    "        if len(sequence) == 30:\n",
    "            sequences.append(sequence)\n",
    "            labels.append(key)\n",
    "            sequence = []\n",
    "        \n",
    "        \n"
   ]
  },
  {
   "cell_type": "code",
   "execution_count": 13,
   "metadata": {},
   "outputs": [
    {
     "name": "stdout",
     "output_type": "stream",
     "text": [
      "(300, 30, 1404)\n",
      "(300,)\n"
     ]
    }
   ],
   "source": [
    "sequences = np.array(sequences)\n",
    "print(sequences.shape)\n",
    "labels = np.array(labels)\n",
    "print(labels.shape)"
   ]
  },
  {
   "cell_type": "code",
   "execution_count": 14,
   "metadata": {},
   "outputs": [
    {
     "name": "stdout",
     "output_type": "stream",
     "text": [
      "(Total Sequences, Sequence Length, Number of Feature)\n"
     ]
    }
   ],
   "source": [
    "print('(Total Sequences, Sequence Length, Number of Feature)')"
   ]
  },
  {
   "cell_type": "code",
   "execution_count": 15,
   "metadata": {},
   "outputs": [
    {
     "data": {
      "text/plain": [
       "array(['0', '0', '0', '0', '0', '0', '0', '0', '0', '0', '0', '0', '0',\n",
       "       '0', '0', '0', '0', '0', '0', '0', '0', '0', '0', '0', '0', '0',\n",
       "       '0', '0', '0', '0', '0', '0', '0', '0', '0', '0', '0', '0', '0',\n",
       "       '0', '0', '0', '0', '0', '0', '0', '0', '0', '0', '0', '0', '0',\n",
       "       '0', '0', '0', '0', '0', '0', '0', '0', '0', '0', '0', '0', '0',\n",
       "       '0', '0', '0', '0', '0', '0', '0', '0', '0', '0', '0', '0', '0',\n",
       "       '0', '0', '0', '0', '0', '0', '0', '0', '0', '0', '0', '0', '0',\n",
       "       '0', '0', '0', '0', '0', '0', '0', '0', '0', '1', '1', '1', '1',\n",
       "       '1', '1', '1', '1', '1', '1', '1', '1', '1', '1', '1', '1', '1',\n",
       "       '1', '1', '1', '1', '1', '1', '1', '1', '1', '1', '1', '1', '1',\n",
       "       '1', '1', '1', '1', '1', '1', '1', '1', '1', '1', '1', '1', '1',\n",
       "       '1', '1', '1', '1', '1', '1', '1', '1', '1', '1', '1', '1', '1',\n",
       "       '1', '1', '1', '1', '1', '1', '1', '1', '1', '1', '1', '1', '1',\n",
       "       '1', '1', '1', '1', '1', '1', '1', '1', '1', '1', '1', '1', '1',\n",
       "       '1', '1', '1', '1', '1', '1', '1', '1', '1', '1', '1', '1', '1',\n",
       "       '1', '1', '1', '1', '1', '2', '2', '2', '2', '2', '2', '2', '2',\n",
       "       '2', '2', '2', '2', '2', '2', '2', '2', '2', '2', '2', '2', '2',\n",
       "       '2', '2', '2', '2', '2', '2', '2', '2', '2', '2', '2', '2', '2',\n",
       "       '2', '2', '2', '2', '2', '2', '2', '2', '2', '2', '2', '2', '2',\n",
       "       '2', '2', '2', '2', '2', '2', '2', '2', '2', '2', '2', '2', '2',\n",
       "       '2', '2', '2', '2', '2', '2', '2', '2', '2', '2', '2', '2', '2',\n",
       "       '2', '2', '2', '2', '2', '2', '2', '2', '2', '2', '2', '2', '2',\n",
       "       '2', '2', '2', '2', '2', '2', '2', '2', '2', '2', '2', '2', '2',\n",
       "       '2'], dtype='<U1')"
      ]
     },
     "execution_count": 15,
     "metadata": {},
     "output_type": "execute_result"
    }
   ],
   "source": [
    "labels"
   ]
  },
  {
   "cell_type": "code",
   "execution_count": 16,
   "metadata": {},
   "outputs": [],
   "source": [
    "# Save output\n",
    "np.save(os.path.join(target_dir, 'data_x.npy'), sequences)\n",
    "np.save(os.path.join(target_dir, 'dataset_y.npy'), labels)"
   ]
  },
  {
   "cell_type": "code",
   "execution_count": null,
   "metadata": {},
   "outputs": [],
   "source": []
  }
 ],
 "metadata": {
  "kernelspec": {
   "display_name": "headposeenv",
   "language": "python",
   "name": "python3"
  },
  "language_info": {
   "codemirror_mode": {
    "name": "ipython",
    "version": 3
   },
   "file_extension": ".py",
   "mimetype": "text/x-python",
   "name": "python",
   "nbconvert_exporter": "python",
   "pygments_lexer": "ipython3",
   "version": "3.8.10"
  },
  "orig_nbformat": 4,
  "vscode": {
   "interpreter": {
    "hash": "37e0aeaae753d047d5432d869cb66df75a2ea0dff51107e2091c1dd896a250ec"
   }
  }
 },
 "nbformat": 4,
 "nbformat_minor": 2
}
